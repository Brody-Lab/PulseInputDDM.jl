{
 "cells": [
  {
   "attachments": {},
   "cell_type": "markdown",
   "metadata": {},
   "source": [
    "## This notebook walks through the basics of generating synthetic choice data and fitting the model to that data to recover the paramaters that generated it"
   ]
  },
  {
   "attachments": {},
   "cell_type": "markdown",
   "metadata": {},
   "source": [
    "Fitting these models to data to choice data alone can be computational expensive. We fit the model below using 44 cpus.\n",
    "\n",
    "`using` is the julia version of python's `import`, i.e. in incorporates the exported functions of a module into the current namespace. `Distributed` is a julia module for performing parallel computing. `addprocs()` adds some workers, which can be called by a main process if there are calls to do things in parallel. `PulseInputDDM` parallelizes the computation of the log-likelhood across trials."
   ]
  },
  {
   "cell_type": "code",
   "execution_count": 1,
   "metadata": {},
   "outputs": [],
   "source": [
    "using Distributed\n",
    "addprocs(28);"
   ]
  },
  {
   "attachments": {},
   "cell_type": "markdown",
   "metadata": {
    "scrolled": true
   },
   "source": [
    "### Fitting a choice model.\n",
    "\n",
    "when `using` is called after workers have been made, i.e. above, then those modules are available on all the workers (i.e. any function called from those modules will be able to be executed on any worker)"
   ]
  },
  {
   "cell_type": "code",
   "execution_count": 2,
   "metadata": {},
   "outputs": [
    {
     "name": "stderr",
     "output_type": "stream",
     "text": [
      "WARNING: method definition for CIs at /usr2/faculty/bddepasq/PulseInputDDM.jl/src/utils.jl:9 declares type variable T but does not use it.\n",
      "WARNING: method definition for loglikelihood at /usr2/faculty/bddepasq/PulseInputDDM.jl/src/neural/RBF_model.jl:57 declares type variable T2 but does not use it.\n"
     ]
    }
   ],
   "source": [
    "@everywhere using PulseInputDDM, Flatten"
   ]
  },
  {
   "attachments": {},
   "cell_type": "markdown",
   "metadata": {},
   "source": [
    "### Generate some data\n",
    "\n",
    "Create an instance of the `θchoice` [composite type](https://docs.julialang.org/en/v1/manual/types/#Composite-Types) which contains the 9 parameters of a choice DDM model. "
   ]
  },
  {
   "cell_type": "code",
   "execution_count": 3,
   "metadata": {},
   "outputs": [],
   "source": [
    "using PyPlot"
   ]
  },
  {
   "cell_type": "code",
   "execution_count": 4,
   "metadata": {},
   "outputs": [],
   "source": [
    "θ_syn = θchoice(θz=θz(σ2_i = 1., B = 13., λ = -0.5, σ2_a = 10., σ2_s = 1.0,\n",
    "    ϕ = 0.4, τ_ϕ = 0.02), bias=0.1, lapse=0.1);"
   ]
  },
  {
   "attachments": {},
   "cell_type": "markdown",
   "metadata": {},
   "source": [
    "Generate 8K trials of the synthetic data using those parameters. change `rng` to get a different set with the same parameters. `dt` specifies the temporal binning of the data. `1e-2` has worked well."
   ]
  },
  {
   "cell_type": "code",
   "execution_count": 5,
   "metadata": {},
   "outputs": [],
   "source": [
    "_, data = synthetic_data(;θ=θ_syn, ntrials=8_000, rng=2, dt=1e-2);"
   ]
  },
  {
   "attachments": {},
   "cell_type": "markdown",
   "metadata": {},
   "source": [
    "Create an instance of the `choiceDDM` composite type which contains the parameters and the data of a choice DDM model. "
   ]
  },
  {
   "cell_type": "code",
   "execution_count": 6,
   "metadata": {},
   "outputs": [
    {
     "data": {
      "text/plain": [
       "choiceDDM{θchoice{θz{Float64}, Float64, Float64}}\n",
       "  θ: θchoice{θz{Float64}, Float64, Float64}\n",
       "  n: Int64 53\n",
       "  cross: Bool false\n",
       "  fit: Array{Bool}((9,)) Bool[1, 1, 1, 1, 1, 1, 1, 1, 1]\n",
       "  lb: Array{Float64}((9,)) [0.0, 4.0, -5.0, 0.0, 0.0, 0.01, 0.005, -5.0, 0.0]\n",
       "  ub: Array{Float64}((9,)) [30.0, 30.0, 5.0, 100.0, 2.5, 1.2, 1.0, 5.0, 1.0]\n"
      ]
     },
     "metadata": {},
     "output_type": "display_data"
    }
   ],
   "source": [
    "model_gen = choiceDDM(θ=θ_syn)\n"
   ]
  },
  {
   "attachments": {},
   "cell_type": "markdown",
   "metadata": {},
   "source": [
    "Compute the loglikelihood of the model under the generative parameters"
   ]
  },
  {
   "cell_type": "code",
   "execution_count": 7,
   "metadata": {},
   "outputs": [
    {
     "data": {
      "text/plain": [
       "-2969.982344856519"
      ]
     },
     "metadata": {},
     "output_type": "display_data"
    }
   ],
   "source": [
    "loglikelihood(model_gen, data)"
   ]
  },
  {
   "attachments": {},
   "cell_type": "markdown",
   "metadata": {},
   "source": [
    "random initial state"
   ]
  },
  {
   "cell_type": "code",
   "execution_count": 8,
   "metadata": {},
   "outputs": [],
   "source": [
    "x0 = vcat([0.1, 15., -0.1, 20., 0.5, 0.2, 0.008], [0.,0.01]);"
   ]
  },
  {
   "attachments": {},
   "cell_type": "markdown",
   "metadata": {},
   "source": [
    "use `Flatten.reconstruct` to place the intial state into the `θchoice()` type, with each variable going into the right place"
   ]
  },
  {
   "cell_type": "code",
   "execution_count": 9,
   "metadata": {},
   "outputs": [
    {
     "data": {
      "text/plain": [
       "θchoice{θz{Float64}, Float64, Float64}\n",
       "  θz: θz{Float64}\n",
       "  bias: Float64 0.0\n",
       "  lapse: Float64 0.01\n"
      ]
     },
     "metadata": {},
     "output_type": "display_data"
    }
   ],
   "source": [
    "θ = Flatten.reconstruct(θchoice(), x0)"
   ]
  },
  {
   "cell_type": "code",
   "execution_count": 10,
   "metadata": {},
   "outputs": [],
   "source": [
    "model = choiceDDM(θ=θ);"
   ]
  },
  {
   "attachments": {},
   "cell_type": "markdown",
   "metadata": {},
   "source": [
    "Compute the loglikelihood of the model under the initial parameters"
   ]
  },
  {
   "cell_type": "code",
   "execution_count": 11,
   "metadata": {},
   "outputs": [
    {
     "data": {
      "text/plain": [
       "-3473.4312908567326"
      ]
     },
     "metadata": {},
     "output_type": "display_data"
    }
   ],
   "source": [
    "loglikelihood(model, data)"
   ]
  },
  {
   "attachments": {},
   "cell_type": "markdown",
   "metadata": {},
   "source": [
    "Create an instance of the `choiceoptions` composite type, using `lb`, `ub`, and `fit`. `choiceoptions` specifies which parameters to fit, and the lower and upper bounds of the optimization."
   ]
  },
  {
   "cell_type": "code",
   "execution_count": 12,
   "metadata": {},
   "outputs": [],
   "source": [
    "model.lb = vcat([0., 2.,  -5., 0.,   0.,  0., 0.005, -5.0, 0.0]);\n",
    "model.ub = [30., 100., 5., 200., 10., 1.2,  1., 5.0, 1.0];\n",
    "model.fit = trues(9);"
   ]
  },
  {
   "attachments": {},
   "cell_type": "markdown",
   "metadata": {},
   "source": [
    "Define bounds for each parameter for the optimization. Some of these are strict (i.e. variance > 0) and some are not (B < 100 seems reasonable, but B could of course be larger then 100.)"
   ]
  },
  {
   "attachments": {},
   "cell_type": "markdown",
   "metadata": {},
   "source": [
    "### Optimize the model, using the options to define details of the optimization"
   ]
  },
  {
   "cell_type": "code",
   "execution_count": 13,
   "metadata": {},
   "outputs": [
    {
     "name": "stdout",
     "output_type": "stream",
     "text": [
      "Fminbox\n",
      "-------\n",
      "Initial mu = 0.160987\n",
      "\n",
      "Fminbox iteration 1\n",
      "-------------------\n",
      "Calling inner optimizer with mu = 0.160987\n",
      "\n",
      "(numbers below include barrier contribution)\n",
      "Iter     Function value   Gradient norm \n",
      "     0     3.471460e+03     5.400220e+04\n",
      " * time: 0.016784191131591797\n",
      "    10     2.966520e+03     1.878303e+03\n",
      " * time: 262.582316160202\n",
      "    20     2.959900e+03     2.580483e+02\n",
      " * time: 474.0698161125183\n",
      "    30     2.959601e+03     2.769489e+01\n",
      " * time: 685.8496150970459\n",
      "    40     2.959527e+03     3.386857e-01\n",
      " * time: 897.1697351932526\n",
      "    50     2.959518e+03     6.917299e-01\n",
      " * time: 1108.814162015915\n",
      "\n",
      "Exiting inner optimizer with x = [18.637110351632536, 14.877849866534907, -0.6833150330350558, 21.233555359853348, 1.0816049664619185, 0.5476649751158597, 0.01770671919035834, 0.16108836469039572, 0.0700446111568121]\n",
      "Current distance to box: 0.0127067\n",
      "Decreasing barrier term μ.\n",
      "\n",
      "Fminbox iteration 2\n",
      "-------------------\n",
      "Calling inner optimizer with mu = 0.000160987\n",
      "\n",
      "(numbers below include barrier contribution)\n",
      "Iter     Function value   Gradient norm \n",
      "     0     2.962917e+03     1.216870e+01\n",
      " * time: 2.002716064453125e-5\n",
      "    10     2.962911e+03     5.834089e+00\n",
      " * time: 352.83257484436035\n",
      "    20     2.962906e+03     9.810828e+00\n",
      " * time: 580.6572868824005\n",
      "\n",
      "Exiting inner optimizer with x = [21.990195948030426, 14.762848233253392, -0.70410026164699, 20.054174866640004, 1.0781726040581967, 0.5406967699839683, 0.016913450012792368, 0.16043949724281137, 0.06855521521037042]\n",
      "Current distance to box: 0.0119135\n",
      "Decreasing barrier term μ.\n",
      "\n",
      "Fminbox iteration 3\n",
      "-------------------\n",
      "Calling inner optimizer with mu = 1.60987e-7\n",
      "\n",
      "(numbers below include barrier contribution)\n",
      "Iter     Function value   Gradient norm \n",
      "     0     2.962903e+03     5.189423e+00\n",
      " * time: 5.2928924560546875e-5\n",
      "\n",
      "Exiting inner optimizer with x = [21.990196912554186, 14.762842976118826, -0.7041379503022241, 20.054175777608354, 1.0781957761078957, 0.5407118103909687, 0.016923237716775695, 0.16042653859187483, 0.06852611568155124]\n",
      "Current distance to box: 0.0119232\n",
      "Decreasing barrier term μ.\n",
      "\n",
      "Fminbox iteration 4\n",
      "-------------------\n",
      "Calling inner optimizer with mu = 1.60987e-10\n",
      "\n",
      "(numbers below include barrier contribution)\n",
      "Iter     Function value   Gradient norm \n",
      "     0     2.962903e+03     1.354090e-02\n",
      " * time: 1.5974044799804688e-5\n",
      "\n",
      "Exiting inner optimizer with x = [21.990197602193344, 14.762839699048858, -0.7041676295641619, 20.054176451881805, 1.078211603575723, 0.5407156461554353, 0.01692360046630532, 0.16041465375027456, 0.06852371827381384]\n",
      "Current distance to box: 0.0119236\n",
      "Decreasing barrier term μ.\n",
      "\n"
     ]
    },
    {
     "data": {
      "text/plain": [
       "(choiceDDM{θchoice{θz{Float64}, Float64, Float64}}\n",
       "  θ: θchoice{θz{Float64}, Float64, Float64}\n",
       "  n: Int64 53\n",
       "  cross: Bool false\n",
       "  fit: Array{Bool}((9,)) Bool[1, 1, 1, 1, 1, 1, 1, 1, 1]\n",
       "  lb: Array{Float64}((9,)) [0.0, 2.0, -5.0, 0.0, 0.0, 0.0, 0.005, -5.0, 0.0]\n",
       "  ub: Array{Float64}((9,)) [30.0, 100.0, 5.0, 200.0, 10.0, 1.2, 1.0, 5.0, 1.0]\n",
       ",  * Status: success\n",
       "\n",
       " * Candidate solution\n",
       "    Final objective value:     2.962903e+03\n",
       "\n",
       " * Found with\n",
       "    Algorithm:     Fminbox with BFGS\n",
       "\n",
       " * Convergence measures\n",
       "    |x - x'|               = 3.61e-05 ≰ 1.0e-10\n",
       "    |x - x'|/|x'|          = 1.09e-06 ≰ 0.0e+00\n",
       "    |f(x) - f(x')|         = 0.00e+00 ≤ 0.0e+00\n",
       "    |f(x) - f(x')|/|f(x')| = 0.00e+00 ≤ 1.0e-09\n",
       "    |g(x)|                 = 2.99e-02 ≰ 1.0e-03\n",
       "\n",
       " * Work counters\n",
       "    Seconds run:   2427  (vs limit 170000)\n",
       "    Iterations:    4\n",
       "    f(x) calls:    155\n",
       "    ∇f(x) calls:   89\n",
       ")"
      ]
     },
     "metadata": {},
     "output_type": "display_data"
    }
   ],
   "source": [
    "model, output = fit(model, data)"
   ]
  },
  {
   "attachments": {},
   "cell_type": "markdown",
   "metadata": {},
   "source": [
    "Compute the likelihood of the optimized model"
   ]
  },
  {
   "cell_type": "code",
   "execution_count": 14,
   "metadata": {},
   "outputs": [
    {
     "data": {
      "text/plain": [
       "-2962.9032243243228"
      ]
     },
     "metadata": {},
     "output_type": "display_data"
    }
   ],
   "source": [
    "loglikelihood(model, data)"
   ]
  },
  {
   "attachments": {},
   "cell_type": "markdown",
   "metadata": {},
   "source": [
    "Compute the gradient of the model after optimization, to ensure we are near the minimum of the loglikelihood"
   ]
  },
  {
   "cell_type": "code",
   "execution_count": 15,
   "metadata": {},
   "outputs": [
    {
     "data": {
      "text/plain": [
       "9-element Vector{Float64}:\n",
       " -0.0003225196474827899\n",
       "  0.0016842712712451524\n",
       "  0.013110035643336015\n",
       " -0.0003110470146129446\n",
       " -0.007397937387439324\n",
       " -0.004261251450824233\n",
       "  0.0826579967890666\n",
       "  0.00508310540347362\n",
       " -0.02991409246407528"
      ]
     },
     "metadata": {},
     "output_type": "display_data"
    }
   ],
   "source": [
    "gradient(model, data)"
   ]
  },
  {
   "attachments": {},
   "cell_type": "markdown",
   "metadata": {},
   "source": [
    "Compute the Hessian of the model, to compute confidence bounds around the ML parameters"
   ]
  },
  {
   "cell_type": "code",
   "execution_count": 16,
   "metadata": {},
   "outputs": [
    {
     "name": "stderr",
     "output_type": "stream",
     "text": [
      "┌ Warning: Hessian is not positive definite. Approximated by closest PSD matrix.\n",
      "│             ||ϵ||/||H|| is 0.000767563435422035\n",
      "└ @ PulseInputDDM /usr2/faculty/bddepasq/PulseInputDDM.jl/src/utils.jl:15\n"
     ]
    }
   ],
   "source": [
    "H = Hessian(model, data)\n",
    "CI, HPSD = CIs(H);"
   ]
  },
  {
   "attachments": {},
   "cell_type": "markdown",
   "metadata": {},
   "source": [
    "Check the eigenvalues of the hessian, to ensure that it is positive semidefinite"
   ]
  },
  {
   "cell_type": "code",
   "execution_count": 17,
   "metadata": {},
   "outputs": [
    {
     "data": {
      "text/plain": [
       "9-element Vector{Float64}:\n",
       "     -0.0001400212637220852\n",
       "      0.0017667051246032053\n",
       "      0.019310623331291212\n",
       "      7.430218163535351\n",
       "     17.01474741244413\n",
       "     41.40719220294924\n",
       "     59.368472879440496\n",
       "  15808.371202124526\n",
       " 792478.4490740973"
      ]
     },
     "metadata": {},
     "output_type": "display_data"
    }
   ],
   "source": [
    "using LinearAlgebra\n",
    "eigvals(H)"
   ]
  },
  {
   "cell_type": "code",
   "execution_count": 18,
   "metadata": {},
   "outputs": [],
   "source": [
    "xf = collect(Flatten.flatten(model.θ));"
   ]
  },
  {
   "cell_type": "code",
   "execution_count": 19,
   "metadata": {},
   "outputs": [],
   "source": [
    "xgen = collect(Flatten.flatten(θ_syn));"
   ]
  },
  {
   "attachments": {},
   "cell_type": "markdown",
   "metadata": {},
   "source": [
    "Check that the solution is within the confidence intervals"
   ]
  },
  {
   "cell_type": "code",
   "execution_count": 20,
   "metadata": {},
   "outputs": [
    {
     "data": {
      "text/plain": [
       "(Bool[1, 1, 1, 1, 1, 1, 1, 1, 1], Bool[1, 1, 1, 1, 1, 1, 1, 1, 1])"
      ]
     },
     "metadata": {},
     "output_type": "display_data"
    }
   ],
   "source": [
    "(xf - CI) .< xgen, (xf + CI) .> xgen"
   ]
  },
  {
   "attachments": {},
   "cell_type": "markdown",
   "metadata": {},
   "source": [
    "Get the step-by-step values of the optimization and plot them"
   ]
  },
  {
   "cell_type": "code",
   "execution_count": 21,
   "metadata": {},
   "outputs": [
    {
     "ename": "KeyError",
     "evalue": "KeyError: key \"x\" not found",
     "output_type": "error",
     "traceback": [
      "KeyError: key \"x\" not found\n",
      "\n",
      "Stacktrace:\n",
      " [1] getindex(h::Dict{Any, Any}, key::String)\n",
      "   @ Base ./dict.jl:498\n",
      " [2] (::var\"#9#10\")(x::Optim.OptimizationState{Float64, Optim.BFGS{LineSearches.InitialStatic{Float64}, LineSearches.BackTracking{Float64, Int64}, Nothing, Nothing, Optim.Flat}})\n",
      "   @ Main ~/PulseInputDDM.jl/examples/fit_choice_synthetic_data.ipynb:1\n",
      " [3] iterate\n",
      "   @ ./generator.jl:47 [inlined]\n",
      " [4] _collect(c::Vector{Optim.OptimizationState{Float64, Optim.BFGS{LineSearches.InitialStatic{Float64}, LineSearches.BackTracking{Float64, Int64}, Nothing, Nothing, Optim.Flat}}}, itr::Base.Generator{Vector{Optim.OptimizationState{Float64, Optim.BFGS{LineSearches.InitialStatic{Float64}, LineSearches.BackTracking{Float64, Int64}, Nothing, Nothing, Optim.Flat}}}, var\"#9#10\"}, ::Base.EltypeUnknown, isz::Base.HasShape{1})\n",
      "   @ Base ./array.jl:854\n",
      " [5] collect_similar(cont::Vector{Optim.OptimizationState{Float64, Optim.BFGS{LineSearches.InitialStatic{Float64}, LineSearches.BackTracking{Float64, Int64}, Nothing, Nothing, Optim.Flat}}}, itr::Base.Generator{Vector{Optim.OptimizationState{Float64, Optim.BFGS{LineSearches.InitialStatic{Float64}, LineSearches.BackTracking{Float64, Int64}, Nothing, Nothing, Optim.Flat}}}, var\"#9#10\"})\n",
      "   @ Base ./array.jl:763\n",
      " [6] map(f::Function, A::Vector{Optim.OptimizationState{Float64, Optim.BFGS{LineSearches.InitialStatic{Float64}, LineSearches.BackTracking{Float64, Int64}, Nothing, Nothing, Optim.Flat}}})\n",
      "   @ Base ./abstractarray.jl:3285\n",
      " [7] top-level scope\n",
      "   @ ~/PulseInputDDM.jl/examples/fit_choice_synthetic_data.ipynb:1"
     ]
    }
   ],
   "source": [
    "trace = hcat(map(x-> x.metadata[\"x\"], output.trace)...);"
   ]
  },
  {
   "cell_type": "code",
   "execution_count": 22,
   "metadata": {},
   "outputs": [],
   "source": [
    "using PyPlot"
   ]
  },
  {
   "cell_type": "code",
   "execution_count": 23,
   "metadata": {},
   "outputs": [
    {
     "ename": "UndefVarError",
     "evalue": "UndefVarError: `trace` not defined",
     "output_type": "error",
     "traceback": [
      "UndefVarError: `trace` not defined\n",
      "\n",
      "Stacktrace:\n",
      " [1] top-level scope\n",
      "   @ ~/PulseInputDDM.jl/examples/fit_choice_synthetic_data.ipynb:7"
     ]
    }
   ],
   "source": [
    "num_rows, num_cols = 3,3\n",
    "fig, ax = subplots(num_rows, num_cols, figsize=(9,9))\n",
    "name = [\"σ2_i\", \"B\", \"λ\", \"σ2_a\", \"σ2_s\", \"ϕ\", \"τ_ϕ\", \"bias\", \"lapse\"]\n",
    "\n",
    "for i in 1:9\n",
    "                  \n",
    "    ax[i].plot(trace[i,:])\n",
    "    ax[i].plot(xgen[i] * ones(size(trace,2)))\n",
    "    ax[i].set_title(name[i])\n",
    "    \n",
    "    ax[i].errorbar(size(trace, 2), xf[i], yerr=CI[i], fmt=\"o\",\n",
    "        capsize=6)\n",
    "end\n",
    "\n",
    "tight_layout() \n",
    "display(gcf())"
   ]
  },
  {
   "attachments": {},
   "cell_type": "markdown",
   "metadata": {},
   "source": [
    "Compute the LL over the optimization domain, for plotting"
   ]
  },
  {
   "cell_type": "code",
   "execution_count": 24,
   "metadata": {},
   "outputs": [],
   "source": [
    "@everywhere ℓℓ(x) = -PulseInputDDM.loglikelihood(x, model, data)"
   ]
  },
  {
   "cell_type": "code",
   "execution_count": 25,
   "metadata": {},
   "outputs": [
    {
     "data": {
      "text/plain": [
       "([0.0, 2.0, -5.0, 0.0, 0.0, 0.0, 0.005, -5.0, 0.0], [30.0, 100.0, 5.0, 200.0, 10.0, 1.2, 1.0, 5.0, 1.0])"
      ]
     },
     "metadata": {},
     "output_type": "display_data"
    }
   ],
   "source": [
    "lb,ub = model.lb, model.ub"
   ]
  },
  {
   "cell_type": "code",
   "execution_count": 26,
   "metadata": {},
   "outputs": [],
   "source": [
    "αs = hcat(map((lb,ub)-> range(lb + eps(), stop=ub, length=30), lb, ub));"
   ]
  },
  {
   "cell_type": "code",
   "execution_count": 27,
   "metadata": {},
   "outputs": [],
   "source": [
    "LL_scan = map(i-> map(x-> ℓℓ(vcat(xf[1:i-1], x, xf[i+1:end])), αs[i]), 1:9);"
   ]
  },
  {
   "cell_type": "code",
   "execution_count": 28,
   "metadata": {},
   "outputs": [
    {
     "data": {
      "image/png": "[encoded data removed]",
      "text/plain": [
       "Figure(PyObject <Figure size 900x900 with 9 Axes>)"
      ]
     },
     "metadata": {},
     "output_type": "display_data"
    }
   ],
   "source": [
    "num_rows, num_cols = 3,3\n",
    "fig, ax = subplots(num_rows, num_cols, figsize=(9,9))\n",
    "name = [\"σ2_i\", \"B\", \"λ\", \"σ2_a\", \"σ2_s\", \"ϕ\", \"τ_ϕ\", \"bias\", \"lapse\"]\n",
    "\n",
    "for i in 1:9\n",
    "                  \n",
    "    ax[i].plot(αs[i], LL_scan[i], \"x\")\n",
    "    ax[i].set_title(name[i])\n",
    "    ax[i].plot(xgen[i]*ones(100), range(minimum(LL_scan[i]), stop=maximum(LL_scan[i]), length=100), \"k\")\n",
    "    ax[i].plot(xf[i]*ones(100), range(minimum(LL_scan[i]), stop=maximum(LL_scan[i]), length=100),\n",
    "        \"g--\")\n",
    "    ax[i].plot(max((xf[i] - CI[i]), lb[i]) *ones(100), range(minimum(LL_scan[i]), \n",
    "            stop=maximum(LL_scan[i]), length=100), \"r--\")\n",
    "    ax[i].plot(min((xf[i] + CI[i]), ub[i]) *ones(100), range(minimum(LL_scan[i]), \n",
    "            stop=maximum(LL_scan[i]), length=100), \"r--\")\n",
    "\n",
    "    \n",
    "end\n",
    "\n",
    "tight_layout() \n",
    "display(gcf())"
   ]
  }
 ],
 "metadata": {
  "kernelspec": {
   "display_name": "Julia 1.10.1",
   "language": "julia",
   "name": "julia-1.10"
  },
  "language_info": {
   "file_extension": ".jl",
   "mimetype": "application/julia",
   "name": "julia",
   "version": "1.10.1"
  }
 },
 "nbformat": 4,
 "nbformat_minor": 2
}
